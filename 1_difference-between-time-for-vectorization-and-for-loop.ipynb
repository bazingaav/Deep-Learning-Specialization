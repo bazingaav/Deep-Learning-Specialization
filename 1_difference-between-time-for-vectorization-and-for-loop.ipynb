{
 "cells": [
  {
   "cell_type": "code",
   "execution_count": 11,
   "metadata": {},
   "outputs": [],
   "source": [
    "import numpy as np\n",
    "import time"
   ]
  },
  {
   "cell_type": "code",
   "execution_count": 12,
   "metadata": {},
   "outputs": [],
   "source": [
    "a = np.random.rand(1000000)\n",
    "b = np.random.rand(1000000)"
   ]
  },
  {
   "cell_type": "code",
   "execution_count": 13,
   "metadata": {},
   "outputs": [
    {
     "output_type": "stream",
     "name": "stdout",
     "text": "Answer =  249704.38251554064\nFor loop:  646.2721824645996  ms\n"
    }
   ],
   "source": [
    "#time required for for loop\n",
    "ans = 0\n",
    "start = time.time()\n",
    "for i in range(1000000):\n",
    "    ans += a[i] * b[i]\n",
    "end = time.time()\n",
    "print(\"Answer = \", ans)\n",
    "print(\"For loop: \",1000*(end-start),\" ms\")"
   ]
  },
  {
   "cell_type": "code",
   "execution_count": 14,
   "metadata": {},
   "outputs": [
    {
     "output_type": "stream",
     "name": "stdout",
     "text": "Answer =  249704.38251553226\nVectorization:  9.977579116821289  ms\n"
    }
   ],
   "source": [
    "#time required for vectorization\n",
    "ans = 0\n",
    "start = time.time()\n",
    "ans = np.dot(a,b)\n",
    "end = time.time()\n",
    "print(\"Answer = \", ans)\n",
    "print(\"Vectorization: \",(1000*(end-start)),\" ms\")"
   ]
  },
  {
   "cell_type": "markdown",
   "metadata": {},
   "source": [
    "Thus it can be concluded that vectorization works significantly faster than for loop."
   ]
  }
 ],
 "metadata": {
  "language_info": {
   "codemirror_mode": {
    "name": "ipython",
    "version": 3
   },
   "file_extension": ".py",
   "mimetype": "text/x-python",
   "name": "python",
   "nbconvert_exporter": "python",
   "pygments_lexer": "ipython3",
   "version": "3.7.4-final"
  },
  "orig_nbformat": 2,
  "kernelspec": {
   "name": "python3",
   "display_name": "Python 3"
  }
 },
 "nbformat": 4,
 "nbformat_minor": 2
}